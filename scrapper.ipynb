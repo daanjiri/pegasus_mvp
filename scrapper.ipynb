{
 "cells": [
  {
   "cell_type": "markdown",
   "metadata": {},
   "source": [
    "### GET LINKS"
   ]
  },
  {
   "cell_type": "code",
   "execution_count": null,
   "metadata": {},
   "outputs": [],
   "source": [
    "from selenium import webdriver\n",
    "from selenium.webdriver.common.by import By\n",
    "from selenium.webdriver.chrome.service import Service\n",
    "from selenium.webdriver.chrome.options import Options\n",
    "from webdriver_manager.chrome import ChromeDriverManager\n",
    "from selenium.common.exceptions import NoSuchElementException, TimeoutException\n",
    "from selenium.webdriver.support.ui import WebDriverWait\n",
    "from selenium.webdriver.support import expected_conditions as EC\n",
    "import pandas as pd\n",
    "import json\n",
    "from tqdm import tqdm"
   ]
  },
  {
   "cell_type": "code",
   "execution_count": null,
   "metadata": {},
   "outputs": [],
   "source": [
    "def setup_driver():\n",
    "    options = Options()\n",
    "    # options.headless = True  # Uncomment to run the browser in headless mode\n",
    "    driver = webdriver.Chrome(service=Service(ChromeDriverManager().install()), options=options)\n",
    "    return driver"
   ]
  },
  {
   "cell_type": "code",
   "execution_count": null,
   "metadata": {},
   "outputs": [],
   "source": [
    "def read_ticker_file(file_path):\n",
    "    companies = []\n",
    "    with open(file_path, 'r') as file:\n",
    "        lines = file.readlines()\n",
    "        for line in lines:\n",
    "            ticker, cik = line.strip().split()\n",
    "            companies.append((ticker, cik))\n",
    "    return companies"
   ]
  },
  {
   "cell_type": "code",
   "execution_count": null,
   "metadata": {},
   "outputs": [],
   "source": [
    "company_url = \"https://www.sec.gov/edgar/browse/?CIK=715957&owner=exclude\"\n",
    "driver = setup_driver()"
   ]
  },
  {
   "cell_type": "code",
   "execution_count": null,
   "metadata": {},
   "outputs": [],
   "source": [
    "driver.get(company_url)"
   ]
  },
  {
   "cell_type": "code",
   "execution_count": null,
   "metadata": {},
   "outputs": [],
   "source": [
    "try:\n",
    "    # Locate the button\n",
    "    button = driver.find_element(By.XPATH, \"//button[contains(text(),'View all 10-Ks and 10-Qs')]\")\n",
    "    # Click using JavaScript\n",
    "    driver.execute_script(\"arguments[0].click();\", button)\n",
    "    print(\"Button clicked successfully.\")\n",
    "except NoSuchElementException:\n",
    "    print(\"Button not found.\")"
   ]
  },
  {
   "cell_type": "code",
   "execution_count": null,
   "metadata": {},
   "outputs": [],
   "source": [
    "wait = WebDriverWait(driver, 10)\n",
    "wait.until(EC.presence_of_element_located((By.XPATH, \"//table\")))"
   ]
  },
  {
   "cell_type": "code",
   "execution_count": null,
   "metadata": {},
   "outputs": [],
   "source": [
    "rows = driver.find_elements(By.XPATH, \"//table/tbody/tr\")"
   ]
  },
  {
   "cell_type": "code",
   "execution_count": null,
   "metadata": {},
   "outputs": [],
   "source": [
    "data = []"
   ]
  },
  {
   "cell_type": "code",
   "execution_count": null,
   "metadata": {},
   "outputs": [],
   "source": [
    "try:\n",
    "    # Wait for the table to be present\n",
    "    wait = WebDriverWait(driver, 10)\n",
    "    wait.until(EC.presence_of_element_located((By.XPATH, \"//table\")))\n",
    "\n",
    "    # Locate all rows in the table\n",
    "    rows = driver.find_elements(By.XPATH, \"//table/tbody/tr\")\n",
    "\n",
    "    for row in rows:\n",
    "        try:\n",
    "            # Extract the type of document\n",
    "            document_type = row.find_element(By.XPATH, \".//td[1]\").text\n",
    "            \n",
    "            # Extract the document link\n",
    "            document_link = row.find_element(By.XPATH, \".//td/div/a[@class='document-link']\").get_attribute(\"href\")\n",
    "            \n",
    "            # Extract the filing date\n",
    "            filing_date = row.find_element(By.XPATH, \".//td[3]\").text  # Adjust the index based on the actual filing date column\n",
    "            \n",
    "            # Extract the reporting date\n",
    "            reporting_date = row.find_element(By.XPATH, \".//td[4]\").text  # Adjust the index based on the actual reporting date column\n",
    "\n",
    "            data.append({\n",
    "                \"Type of Document\": document_type,\n",
    "                \"Link\": document_link,\n",
    "                \"Filing Date\": filing_date,\n",
    "                \"Reporting Date\": reporting_date\n",
    "            })\n",
    "\n",
    "        except NoSuchElementException:\n",
    "            continue  # If any element is not found in the current row, skip to the next one\n",
    "\n",
    "except (NoSuchElementException, TimeoutException):\n",
    "    print(\"Table not found or could not load the page.\")"
   ]
  },
  {
   "cell_type": "code",
   "execution_count": null,
   "metadata": {},
   "outputs": [],
   "source": [
    "print(data)"
   ]
  },
  {
   "cell_type": "code",
   "execution_count": null,
   "metadata": {},
   "outputs": [],
   "source": [
    "def scrape_company_data(driver, cik):\n",
    "    company_url = f\"https://www.sec.gov/edgar/browse/?CIK={cik}&owner=exclude\"\n",
    "    driver.get(company_url)\n",
    "    data = []\n",
    "\n",
    "    try:\n",
    "        # Locate and click the button to view all 10-Ks and 10-Qs\n",
    "        button = driver.find_element(By.XPATH, \"//button[contains(text(),'View all 10-Ks and 10-Qs')]\")\n",
    "        driver.execute_script(\"arguments[0].click();\", button)\n",
    "        print(f\"Button clicked successfully for CIK: {cik}.\")\n",
    "        \n",
    "        # Wait for the table to be present\n",
    "        wait = WebDriverWait(driver, 10)\n",
    "        wait.until(EC.presence_of_element_located((By.XPATH, \"//table\")))\n",
    "\n",
    "        # Locate all rows in the table\n",
    "        rows = driver.find_elements(By.XPATH, \"//table/tbody/tr\")\n",
    "\n",
    "        for row in rows:\n",
    "            try:\n",
    "                # Extract the type of document\n",
    "                document_type = row.find_element(By.XPATH, \".//td[1]\").text\n",
    "                \n",
    "                # Extract the document link\n",
    "                document_link = row.find_element(By.XPATH, \".//td/div/a[@class='document-link']\").get_attribute(\"href\")\n",
    "                \n",
    "                # Extract the filing date\n",
    "                filing_date = row.find_element(By.XPATH, \".//td[3]\").text  # Adjust the index based on the actual filing date column\n",
    "                \n",
    "                # Extract the reporting date\n",
    "                reporting_date = row.find_element(By.XPATH, \".//td[4]\").text  # Adjust the index based on the actual reporting date column\n",
    "\n",
    "                data.append({\n",
    "                    \"Type of Document\": document_type,\n",
    "                    \"Link\": document_link,\n",
    "                    \"Filing Date\": filing_date,\n",
    "                    \"Reporting Date\": reporting_date\n",
    "                })\n",
    "\n",
    "            except NoSuchElementException:\n",
    "                continue  # If any element is not found in the current row, skip to the next one\n",
    "\n",
    "    except (NoSuchElementException, TimeoutException):\n",
    "        print(f\"Table not found or could not load the page for CIK: {cik}.\")\n",
    "\n",
    "    return data"
   ]
  },
  {
   "cell_type": "code",
   "execution_count": null,
   "metadata": {},
   "outputs": [],
   "source": [
    "def get_documents_links():\n",
    "    companies = read_ticker_file('ticker.txt')\n",
    "    driver = setup_driver()\n",
    "    \n",
    "    all_data = {}\n",
    "    count =0\n",
    "\n",
    "    for ticker, cik in tqdm(companies):\n",
    "        print(f\"Processing {ticker} with CIK: {cik}\")\n",
    "        company_data = scrape_company_data(driver, cik)\n",
    "        all_data[ticker]=company_data\n",
    "        print(company_data)\n",
    "        if count==10:\n",
    "            break\n",
    "        count+=1  \n",
    "\n",
    "    driver.quit()\n",
    "    return all_data"
   ]
  },
  {
   "cell_type": "code",
   "execution_count": null,
   "metadata": {},
   "outputs": [],
   "source": [
    "all_data=get_documents_links()"
   ]
  },
  {
   "cell_type": "code",
   "execution_count": null,
   "metadata": {},
   "outputs": [],
   "source": [
    "with open('company_data.txt', 'w') as outfile:\n",
    "    json.dump(all_data, outfile, indent=4)"
   ]
  },
  {
   "cell_type": "markdown",
   "metadata": {},
   "source": [
    "### GET HTMLs\n"
   ]
  },
  {
   "cell_type": "code",
   "execution_count": null,
   "metadata": {},
   "outputs": [],
   "source": [
    "import json\n",
    "from selenium import webdriver\n",
    "from selenium.webdriver.common.by import By\n",
    "from selenium.webdriver.chrome.service import Service\n",
    "from selenium.webdriver.chrome.options import Options\n",
    "from webdriver_manager.chrome import ChromeDriverManager\n",
    "from selenium.common.exceptions import NoSuchElementException, TimeoutException\n",
    "from selenium.webdriver.support.ui import WebDriverWait\n",
    "from selenium.webdriver.support import expected_conditions as EC\n",
    "import os\n",
    "import time"
   ]
  },
  {
   "cell_type": "code",
   "execution_count": null,
   "metadata": {},
   "outputs": [],
   "source": [
    "def setup_driver():\n",
    "    options = Options()\n",
    "    # options.headless = True  # Uncomment to run the browser in headless mode\n",
    "    driver = webdriver.Chrome(service=Service(ChromeDriverManager().install()), options=options)\n",
    "    return driver\n",
    "\n",
    "def read_company_data(file_path):\n",
    "    with open(file_path, 'r') as infile:\n",
    "        all_data = json.load(infile)\n",
    "    return all_data"
   ]
  },
  {
   "cell_type": "code",
   "execution_count": null,
   "metadata": {},
   "outputs": [],
   "source": [
    "def save_html(driver, url, company, doc_type, reporting_date):\n",
    "    driver.get(url)\n",
    "    time.sleep(6)\n",
    "    try:\n",
    "        # Wait for the iframe to be present\n",
    "        wait = WebDriverWait(driver, 30)\n",
    "        iframe_present = wait.until(EC.presence_of_element_located((By.ID, \"ixvFrame\")))\n",
    "\n",
    "        if iframe_present:\n",
    "            # Switch to the iframe\n",
    "            driver.switch_to.frame(iframe_present)\n",
    "\n",
    "            # Wait for the iframe content to load completely\n",
    "            wait.until(EC.presence_of_element_located((By.XPATH, \"//body\")))\n",
    "\n",
    "            # Extract the HTML content\n",
    "            html_content = driver.page_source\n",
    "\n",
    "            # Switch back to the main content\n",
    "            driver.switch_to.default_content()\n",
    "\n",
    "        else:\n",
    "            # If iframe is not present, get the page source\n",
    "            html_content = driver.page_source\n",
    "\n",
    "        # Create the directory if it doesn't exist\n",
    "        if not os.path.exists('html_files'):\n",
    "            os.makedirs('html_files')\n",
    "\n",
    "        # Save the HTML content to a file\n",
    "        file_name = f\"html_files/{company}_{doc_type}_{reporting_date}.html\"\n",
    "        with open(file_name, 'w', encoding='utf-8') as file:\n",
    "            file.write(html_content)\n",
    "        \n",
    "        print(f\"Saved {file_name} successfully.\")\n",
    "\n",
    "    except TimeoutException:\n",
    "        print(f\"iframe not found for URL: {url}\")\n",
    "        html_content = driver.page_source\n",
    "        # Create the directory if it doesn't exist\n",
    "        if not os.path.exists('html_files'):\n",
    "            os.makedirs('html_files')\n",
    "\n",
    "        # Save the HTML content to a file\n",
    "        file_name = f\"html_files/{company}_{doc_type}_{reporting_date}.html\"\n",
    "        with open(file_name, 'w', encoding='utf-8') as file:\n",
    "            file.write(html_content)\n",
    "        \n",
    "        print(f\"Saved {file_name} successfully.\")\n",
    "        \n",
    "    except NoSuchElementException:\n",
    "        print(f\"Element not found for URL: {url}\")\n",
    "        html_content = driver.page_source\n",
    "        # Create the directory if it doesn't exist\n",
    "        if not os.path.exists('html_files'):\n",
    "            os.makedirs('html_files')\n",
    "\n",
    "        # Save the HTML content to a file\n",
    "        file_name = f\"html_files/{company}_{doc_type}_{reporting_date}.html\"\n",
    "        with open(file_name, 'w', encoding='utf-8') as file:\n",
    "            file.write(html_content)\n",
    "        \n",
    "        print(f\"Saved {file_name} successfully.\")\n"
   ]
  },
  {
   "cell_type": "code",
   "execution_count": null,
   "metadata": {},
   "outputs": [],
   "source": [
    "def main():\n",
    "    company_data = read_company_data('company_data.txt')\n",
    "    driver = setup_driver()\n",
    "\n",
    "    for company, documents in tqdm(company_data.items()):\n",
    "        print(f\"Processing company: {company}\")\n",
    "        for doc in documents:\n",
    "            url = doc['Link']\n",
    "            doc_type = doc['Type of Document']\n",
    "            reporting_date = doc['Reporting Date']\n",
    "            print(f\"Fetching data for {company}: {doc_type} on {reporting_date}\")\n",
    "            save_html(driver, url, company, doc_type, reporting_date)\n",
    "\n",
    "    driver.quit()"
   ]
  },
  {
   "cell_type": "code",
   "execution_count": null,
   "metadata": {},
   "outputs": [],
   "source": [
    "if __name__ == \"__main__\":\n",
    "    main()"
   ]
  }
 ],
 "metadata": {
  "kernelspec": {
   "display_name": "venv",
   "language": "python",
   "name": "python3"
  },
  "language_info": {
   "codemirror_mode": {
    "name": "ipython",
    "version": 3
   },
   "file_extension": ".py",
   "mimetype": "text/x-python",
   "name": "python",
   "nbconvert_exporter": "python",
   "pygments_lexer": "ipython3",
   "version": "3.12.2"
  }
 },
 "nbformat": 4,
 "nbformat_minor": 2
}
